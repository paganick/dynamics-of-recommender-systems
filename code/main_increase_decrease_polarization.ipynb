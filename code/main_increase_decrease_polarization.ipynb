{
 "cells": [
  {
   "cell_type": "code",
   "execution_count": 52,
   "metadata": {
    "collapsed": true
   },
   "outputs": [],
   "source": [
    "import numpy as np\n",
    "import matplotlib.pyplot as plt\n",
    "from floweaver import *\n",
    "from modules.algorithms import UtilityMatrix\n",
    "from modules.agents import Population\n",
    "from modules.simulator import Simulator\n",
    "from modules.rewardsFunctions import RewardFunctionExponential, RewardFunctionSquaredExponential\n",
    "from modules.samplers import UniformSamplerRecommendation, GaussianSamplerRecommendation, MixtureGaussianSamplerRecommendation\n",
    "from modules.samplers import UniformSamplerOpinion, GaussianSamplerOpinion, MixtureGaussianSamplerOpinion\n",
    "from modules.parameters import ParametersUser, ParametersPopulation\n",
    "from modules.basic import Opinion\n",
    "from sklearn.mixture import GaussianMixture\n",
    "import time\n",
    "from unidip import UniDip"
   ]
  },
  {
   "cell_type": "code",
   "execution_count": 53,
   "outputs": [],
   "source": [
    "reward = RewardFunctionSquaredExponential(decay_parameter=1.0)\n",
    "# recommendation_sampler = UniformSamplerRecommendation(low=-1.0, high=1.0)\n",
    "# recommendation_sampler = MixtureGaussianSamplerRecommendation(mean=[-1.0, 1.0], std=[0.1, 0.1])\n",
    "# recommendation_sampler = GaussianSamplerRecommendation(mean=0.0, std=1.0)\n",
    "opinion_sampler = UniformSamplerOpinion(low=-2.0, high=2.0)"
   ],
   "metadata": {
    "collapsed": false,
    "pycharm": {
     "name": "#%%\n"
    }
   }
  },
  {
   "cell_type": "code",
   "execution_count": 54,
   "outputs": [
    {
     "name": "stdout",
     "output_type": "stream",
     "text": [
      "0\n",
      "1\n",
      "2\n",
      "3\n",
      "4\n",
      "5\n",
      "6\n",
      "7\n",
      "8\n",
      "9\n",
      "10\n",
      "11\n",
      "12\n",
      "13\n",
      "14\n",
      "15\n",
      "16\n",
      "17\n",
      "18\n",
      "19\n",
      "20\n"
     ]
    }
   ],
   "source": [
    "n_f, n_a = 21, 21\n",
    "f_vec = np.linspace(start=1, stop=21, num=n_f)\n",
    "a_vec = np.linspace(start=0, stop=2, num=n_a)\n",
    "\n",
    "f_mat, a_mat  = np.meshgrid(f_vec, a_vec, indexing='ij')\n",
    "\n",
    "d = np.zeros((n_f, n_a))\n",
    "final_distribution = []\n",
    "\n",
    "for i in range(n_f):\n",
    "    print(i)\n",
    "    final_distribution_i = []\n",
    "    for j in range(n_a):\n",
    "        parameters = ParametersUser(prejudice=0.0,\n",
    "                                    weight_prejudice=0.0,\n",
    "                                    weight_recommendation=1.0-0.8,\n",
    "                                    weight_current_opinion=0.8,\n",
    "                                    reward=reward)\n",
    "        parameters_population = ParametersPopulation(parameters=parameters,\n",
    "                                                     repeat=5000)\n",
    "        # Define population\n",
    "        population = Population(parameters=parameters_population,\n",
    "                                initial_state=opinion_sampler,\n",
    "                                save_history=False)\n",
    "\n",
    "        alg = UtilityMatrix(n_agents=population.n_agents(),\n",
    "                            recommendation_sampler=MixtureGaussianSamplerRecommendation(mean=[-0.5*a_mat[i, j], 0.5*a_mat[i,j]], std=[0.1, 0.1]),\n",
    "                            exploration_probability=None,\n",
    "                            exploration_frequency=f_mat[i, j],\n",
    "                            save_history=False)\n",
    "        # Simulator\n",
    "        simulator = Simulator(agent=population,\n",
    "                              algorithm=alg)\n",
    "        # Run\n",
    "        simulator.run(horizon=int(20*f_mat[i, j]),  # TODO: do exploration cycles\n",
    "                      initialize=True)\n",
    "\n",
    "        # Fit mixture\n",
    "        final_distribution = simulator.metrics()['final_distribution'].reshape((-1, 1))\n",
    "        gm = GaussianMixture(n_components=2, random_state=0).fit(final_distribution)\n",
    "        d[i, j] = abs(gm.means_[0]-gm.means_[1])\n",
    "\n",
    "        #print(d[i,j])\n",
    "        # print(intervals)\n",
    "        #plt.close()\n",
    "        #plt.hist(final_distribution)\n",
    "        #plt.show()\n",
    "        #time.sleep(.5)"
   ],
   "metadata": {
    "collapsed": false,
    "pycharm": {
     "name": "#%%\n"
    }
   }
  },
  {
   "cell_type": "code",
   "execution_count": 55,
   "outputs": [
    {
     "data": {
      "text/plain": "<Figure size 1080x720 with 2 Axes>",
      "image/png": "[encoded data removed]"
     },
     "metadata": {
      "needs_background": "light"
     },
     "output_type": "display_data"
    }
   ],
   "source": [
    "plt.rcParams['figure.figsize'] = [15, 10]\n",
    "save = True\n",
    "\n",
    "# Make plot  # TODO: distance caused by random recommender system\n",
    "fig, axes = plt.subplots(1, 1)\n",
    "\n",
    "ax = axes\n",
    "c = ax.pcolormesh(np.power(0.8, f_mat-1.0), a_mat, d)\n",
    "fig.colorbar(c, ax=ax)\n",
    "ax.set_title('Initial opinion')\n",
    "ax.set_ylabel('alpha')\n",
    "ax.set_xlabel('beta^T')\n",
    "if save:\n",
    "    np.savetxt(\"dpol.csv\", np.vstack((np.power(0.8, f_mat.reshape(-1)-1.0), a_mat.reshape(-1), d.reshape(-1))).T, delimiter=\",\")\n",
    "\n",
    "plt.show()"
   ],
   "metadata": {
    "collapsed": false,
    "pycharm": {
     "name": "#%%\n"
    }
   }
  },
  {
   "cell_type": "code",
   "execution_count": 56,
   "outputs": [
    {
     "data": {
      "text/plain": "1.0"
     },
     "execution_count": 56,
     "metadata": {},
     "output_type": "execute_result"
    }
   ],
   "source": [
    "max(np.power(0.8, f_mat.reshape(-1)-1.0))"
   ],
   "metadata": {
    "collapsed": false,
    "pycharm": {
     "name": "#%%\n"
    }
   }
  },
  {
   "cell_type": "code",
   "execution_count": 57,
   "outputs": [
    {
     "data": {
      "text/plain": "array([0. , 0.1, 0.2, 0.3, 0.4, 0.5, 0.6, 0.7, 0.8, 0.9, 1. , 1.1, 1.2,\n       1.3, 1.4, 1.5, 1.6, 1.7, 1.8, 1.9, 2. ])"
     },
     "execution_count": 57,
     "metadata": {},
     "output_type": "execute_result"
    }
   ],
   "source": [
    "a_vec"
   ],
   "metadata": {
    "collapsed": false,
    "pycharm": {
     "name": "#%%\n"
    }
   }
  },
  {
   "cell_type": "code",
   "execution_count": 57,
   "outputs": [],
   "source": [],
   "metadata": {
    "collapsed": false,
    "pycharm": {
     "name": "#%%\n"
    }
   }
  }
 ],
 "metadata": {
  "kernelspec": {
   "display_name": "Python 3",
   "language": "python",
   "name": "python3"
  },
  "language_info": {
   "codemirror_mode": {
    "name": "ipython",
    "version": 2
   },
   "file_extension": ".py",
   "mimetype": "text/x-python",
   "name": "python",
   "nbconvert_exporter": "python",
   "pygments_lexer": "ipython2",
   "version": "2.7.6"
  }
 },
 "nbformat": 4,
 "nbformat_minor": 0
}