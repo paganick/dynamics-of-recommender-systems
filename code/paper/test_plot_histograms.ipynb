{
 "cells": [
  {
   "cell_type": "code",
   "execution_count": 13,
   "metadata": {
    "collapsed": true
   },
   "outputs": [],
   "source": [
    "import numpy as np\n",
    "from matplotlib import pyplot as plt\n",
    "\n",
    "x = np.loadtxt('paper/illustrative_example.csv', delimiter=',')"
   ]
  },
  {
   "cell_type": "code",
   "execution_count": 14,
   "outputs": [
    {
     "data": {
      "text/plain": "array([[ 0.508932  , -0.27462389],\n       [ 0.70430028,  0.16814015],\n       [ 0.95142285,  0.64134766],\n       ...,\n       [ 0.9051077 ,  0.53592702],\n       [ 0.96814282,  0.0828705 ],\n       [ 1.34923163, -0.06834225]])"
     },
     "execution_count": 14,
     "metadata": {},
     "output_type": "execute_result"
    }
   ],
   "source": [
    "x"
   ],
   "metadata": {
    "collapsed": false,
    "pycharm": {
     "name": "#%%\n"
    }
   }
  },
  {
   "cell_type": "code",
   "execution_count": 15,
   "outputs": [
    {
     "data": {
      "text/plain": "(array([473., 507., 477., 485., 506., 512., 556., 473., 516., 495.]),\n array([3.36836924e-04, 2.00184696e-01, 4.00032556e-01, 5.99880415e-01,\n        7.99728274e-01, 9.99576134e-01, 1.19942399e+00, 1.39927185e+00,\n        1.59911971e+00, 1.79896757e+00, 1.99881543e+00]),\n <BarContainer object of 10 artists>)"
     },
     "execution_count": 15,
     "metadata": {},
     "output_type": "execute_result"
    },
    {
     "data": {
      "text/plain": "<Figure size 432x288 with 1 Axes>",
      "image/png": "[encoded data removed]"
     },
     "metadata": {
      "needs_background": "light"
     },
     "output_type": "display_data"
    }
   ],
   "source": [
    "plt.hist(x[:, 0])"
   ],
   "metadata": {
    "collapsed": false,
    "pycharm": {
     "name": "#%%\n"
    }
   }
  },
  {
   "cell_type": "code",
   "execution_count": 16,
   "outputs": [
    {
     "data": {
      "text/plain": "(array([   6.,   55.,  224.,  829., 1701., 1475.,  590.,  105.,   13.,\n           2.]),\n array([-1.47151439, -1.1200821 , -0.76864981, -0.41721752, -0.06578523,\n         0.28564706,  0.63707935,  0.98851164,  1.33994394,  1.69137623,\n         2.04280852]),\n <BarContainer object of 10 artists>)"
     },
     "execution_count": 16,
     "metadata": {},
     "output_type": "execute_result"
    },
    {
     "data": {
      "text/plain": "<Figure size 432x288 with 1 Axes>",
      "image/png": "[encoded data removed]"
     },
     "metadata": {
      "needs_background": "light"
     },
     "output_type": "display_data"
    }
   ],
   "source": [
    "plt.hist(x[:, -1])"
   ],
   "metadata": {
    "collapsed": false,
    "pycharm": {
     "name": "#%%\n"
    }
   }
  }
 ],
 "metadata": {
  "kernelspec": {
   "display_name": "Python 3",
   "language": "python",
   "name": "python3"
  },
  "language_info": {
   "codemirror_mode": {
    "name": "ipython",
    "version": 2
   },
   "file_extension": ".py",
   "mimetype": "text/x-python",
   "name": "python",
   "nbconvert_exporter": "python",
   "pygments_lexer": "ipython2",
   "version": "2.7.6"
  }
 },
 "nbformat": 4,
 "nbformat_minor": 0
}