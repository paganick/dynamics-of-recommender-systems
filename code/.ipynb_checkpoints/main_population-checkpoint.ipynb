{
 "cells": [
  {
   "cell_type": "code",
   "execution_count": null,
   "metadata": {
    "pycharm": {
     "is_executing": true
    }
   },
   "outputs": [],
   "source": [
    "import numpy as np\n",
    "from floweaver import * \n",
    "from modules.algorithms import UtilityMatrix\n",
    "from modules.agents import Population\n",
    "from modules.simulator import Simulator\n",
    "from modules.rewardsFunctions import RewardFunctionExponential, RewardFunctionSquaredExponential\n",
    "from modules.samplers import UniformSamplerRecommendation, GaussianSamplerRecommendation, MixtureGaussianSamplerRecommendation\n",
    "from modules.samplers import UniformSamplerOpinion, GaussianSamplerOpinion, MixtureGaussianSamplerOpinion\n",
    "from modules.parameters import ParametersUser, ParametersPopulation\n",
    "from modules.basic import Opinion"
   ]
  },
  {
   "cell_type": "markdown",
   "metadata": {
    "pycharm": {
     "name": "#%% md\n"
    }
   },
   "source": [
    "Basic parameters"
   ]
  },
  {
   "cell_type": "code",
   "execution_count": null,
   "metadata": {
    "pycharm": {
     "is_executing": true,
     "name": "#%%\n"
    }
   },
   "outputs": [],
   "source": [
    "reward = RewardFunctionSquaredExponential(decay_parameter=1.0)\n",
    "recommendation_sampler = UniformSamplerRecommendation(low=-1.0, high=1.0)\n",
    "# recommendation_sampler = MixtureGaussianSamplerRecommendation(mean=[-1.0, 1.0], std=[0.1, 0.1])\n",
    "opinion_sampler_1 = UniformSamplerOpinion(low=-2.0, high=2.0)\n",
    "opinion_sampler_2 = UniformSamplerOpinion(low=-0.0, high=2.0)"
   ]
  },
  {
   "cell_type": "markdown",
   "metadata": {
    "pycharm": {
     "name": "#%% md\n"
    }
   },
   "source": [
    "Define parameters of the population"
   ]
  },
  {
   "cell_type": "code",
   "execution_count": null,
   "metadata": {
    "pycharm": {
     "is_executing": true,
     "name": "#%%\n"
    }
   },
   "outputs": [],
   "source": [
    "parameters = ParametersUser(prejudice=0.0,\n",
    "                            weight_prejudice=0.0,\n",
    "                            weight_recommendation=0.4,\n",
    "                            weight_current_opinion=0.6,\n",
    "                            reward=reward)\n",
    "parameters_population = ParametersPopulation(parameters=parameters,\n",
    "                                             repeat=1000)\n",
    "\n",
    "# Define population\n",
    "population_1 = Population(parameters=parameters_population,\n",
    "                          initial_state=opinion_sampler_1,\n",
    "                          save_history=True)"
   ]
  },
  {
   "cell_type": "markdown",
   "metadata": {
    "pycharm": {
     "name": "#%% md\n"
    }
   },
   "source": [
    "Augment population"
   ]
  },
  {
   "cell_type": "code",
   "execution_count": null,
   "metadata": {
    "pycharm": {
     "is_executing": true,
     "name": "#%%\n"
    }
   },
   "outputs": [],
   "source": [
    "parameters = ParametersUser(prejudice=0.0,\n",
    "                            weight_prejudice=0.0,\n",
    "                            weight_recommendation=0.1,\n",
    "                            weight_current_opinion=0.9,\n",
    "                            reward=reward)\n",
    "parameters_population = ParametersPopulation(parameters=parameters,\n",
    "                                             repeat=1000)\n",
    "\n",
    "# Define population\n",
    "population_2 = Population(parameters=parameters_population,\n",
    "                          initial_state=opinion_sampler_2,\n",
    "                          save_history=True)\n",
    "# Sum populations\n",
    "population = population_1 + population_2\n",
    "# population = population_1"
   ]
  },
  {
   "cell_type": "markdown",
   "metadata": {
    "pycharm": {
     "name": "#%% md\n"
    }
   },
   "source": [
    "Define algorithm"
   ]
  },
  {
   "cell_type": "code",
   "execution_count": null,
   "metadata": {
    "pycharm": {
     "is_executing": true,
     "name": "#%%\n"
    }
   },
   "outputs": [],
   "source": [
    "alg = UtilityMatrix(n_agents=population.n_agents(),\n",
    "                    recommendation_sampler=recommendation_sampler,\n",
    "                    exploration_probability=None,\n",
    "                    exploration_frequency=50)"
   ]
  },
  {
   "cell_type": "markdown",
   "metadata": {
    "pycharm": {
     "name": "#%% md\n"
    }
   },
   "source": [
    "Run simulations and make plots"
   ]
  },
  {
   "cell_type": "code",
   "execution_count": null,
   "metadata": {
    "pycharm": {
     "is_executing": true,
     "name": "#%%\n"
    }
   },
   "outputs": [],
   "source": [
    "# Simulator\n",
    "simulator = Simulator(agent=population,\n",
    "                      algorithm=alg)\n",
    "\n",
    "# Run\n",
    "simulator.run(horizon=102,\n",
    "              initialize=True)\n",
    "\n",
    "# Plot\n",
    "recommendation_sampler.plot(show=True)\n",
    "opinion_sampler_1.plot(show=False, color='blue')\n",
    "opinion_sampler_2.plot(show=True, color='red')\n",
    "sankey_plot_data = simulator.agent.plot(save=False, name='sim_identical')\n",
    "\n",
    "# Save data (still to improve)\n",
    "simulator.agent.save_trajectory_to_file(name='data', folder='results')"
   ]
  },
  {
   "cell_type": "code",
   "execution_count": null,
   "metadata": {
    "pycharm": {
     "is_executing": true
    }
   },
   "outputs": [],
   "source": [
    "# Plot (needs to be in a separate cell)\n",
    "weave(sankey_plot_data[0], dataset=sankey_plot_data[1]).to_widget()\n",
    "# weave(sankey_plot_data[0], dataset=sankey_plot_data[1]).to_widget().auto_save_png('test.png')"
   ]
  },
  {
   "cell_type": "code",
   "execution_count": null,
   "metadata": {
    "pycharm": {
     "is_executing": true,
     "name": "#%%\n"
    }
   },
   "outputs": [],
   "source": [
    "# Continue simulation\n",
    "simulator.run(horizon=102,\n",
    "              initialize=True)\n",
    "\n",
    "# Plot\n",
    "simulator.agent.plot(save=False, name='sim_identical')\n",
    "\n",
    "# Save data (still to improve)\n",
    "simulator.agent.save_trajectory_to_file(name='data', folder='results')"
   ]
  },
  {
   "cell_type": "code",
   "execution_count": null,
   "metadata": {
    "pycharm": {
     "is_executing": true,
     "name": "#%%\n"
    }
   },
   "outputs": [],
   "source": []
  }
 ],
 "metadata": {
  "kernelspec": {
   "display_name": "Python 3 (ipykernel)",
   "language": "python",
   "name": "python3"
  },
  "language_info": {
   "codemirror_mode": {
    "name": "ipython",
    "version": 3
   },
   "file_extension": ".py",
   "mimetype": "text/x-python",
   "name": "python",
   "nbconvert_exporter": "python",
   "pygments_lexer": "ipython3",
   "version": "3.9.9"
  }
 },
 "nbformat": 4,
 "nbformat_minor": 1
}
