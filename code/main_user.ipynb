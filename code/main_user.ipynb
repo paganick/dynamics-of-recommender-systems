{
 "cells": [
  {
   "cell_type": "code",
   "execution_count": 1,
   "outputs": [],
   "source": [
    "from modules.algorithms import UtilityMatrix\n",
    "from modules.agents import User\n",
    "from modules.simulator import Simulator\n",
    "from modules.rewardsFunctions import RewardFunctionExponential, RewardFunctionSquaredExponential\n",
    "from modules.samplers import UniformSamplerRecommendation, GaussianSamplerRecommendation\n",
    "from modules.samplers import UniformSamplerOpinion, GaussianSamplerOpinion, DeterministicSamplerOpinion\n",
    "from modules.parameters import ParametersUser\n",
    "from modules.basic import Opinion\n",
    "import numpy as np"
   ],
   "metadata": {
    "collapsed": false,
    "pycharm": {
     "name": "#%%\n"
    }
   }
  },
  {
   "cell_type": "markdown",
   "source": [
    "Define parameters"
   ],
   "metadata": {
    "collapsed": false,
    "pycharm": {
     "name": "#%% md\n"
    }
   }
  },
  {
   "cell_type": "code",
   "execution_count": 2,
   "outputs": [],
   "source": [
    "reward = RewardFunctionSquaredExponential(decay_parameter=1.0)\n",
    "recommendation_sampler = UniformSamplerRecommendation(low=-1.0, high=1.0)\n",
    "opinion_sampler = UniformSamplerOpinion(low=-1.0, high=1.0)\n",
    "# opinion_sampler = DeterministicSamplerOpinion(value=0.0)\n",
    "\n",
    "initialize_with_prejudice = True\n",
    "\n",
    "parameters = ParametersUser(prejudice=opinion_sampler.sample(1),\n",
    "                            weight_prejudice=0.1,\n",
    "                            weight_recommendation=0.2,\n",
    "                            weight_current_opinion=0.7,\n",
    "                            reward=reward)"
   ],
   "metadata": {
    "collapsed": false,
    "pycharm": {
     "name": "#%%\n"
    }
   }
  },
  {
   "cell_type": "markdown",
   "source": [
    "Define a user and algorithm"
   ],
   "metadata": {
    "collapsed": false,
    "pycharm": {
     "name": "#%% md\n"
    }
   }
  },
  {
   "cell_type": "code",
   "execution_count": 3,
   "outputs": [],
   "source": [
    "user = User(parameters=parameters,\n",
    "            initial_state=None, # input the sampler to get different initial conditions every time\n",
    "            initialize_with_prejudice=initialize_with_prejudice,\n",
    "            save_history=True)\n",
    "\n",
    "alg = UtilityMatrix(n_agents=1,\n",
    "                    recommendation_sampler=recommendation_sampler,\n",
    "                    exploration_probability=0.0, # probability of exploring at every time step\n",
    "                    exploration_frequency=10) # force exploration every exploration_frequency steps"
   ],
   "metadata": {
    "collapsed": false,
    "pycharm": {
     "name": "#%%\n"
    }
   }
  },
  {
   "cell_type": "code",
   "execution_count": 8,
   "outputs": [
    {
     "data": {
      "text/plain": "<Figure size 432x288 with 3 Axes>",
      "image/png": "[encoded data removed]"
     },
     "metadata": {
      "needs_background": "light"
     },
     "output_type": "display_data"
    }
   ],
   "source": [
    "# Simulation\n",
    "simulator = Simulator(agent=user,\n",
    "                      algorithm=alg)\n",
    "\n",
    "# Run\n",
    "simulator.run(horizon=30,\n",
    "              initialize=True,\n",
    "              initialize_with_prejudice=initialize_with_prejudice)\n",
    "\n",
    "# Plot\n",
    "simulator.agent.plot(save=False)"
   ],
   "metadata": {
    "collapsed": false,
    "pycharm": {
     "name": "#%%\n"
    }
   }
  },
  {
   "cell_type": "code",
   "execution_count": 4,
   "outputs": [],
   "source": [],
   "metadata": {
    "collapsed": false,
    "pycharm": {
     "name": "#%%\n"
    }
   }
  }
 ],
 "metadata": {
  "kernelspec": {
   "display_name": "Python 3",
   "language": "python",
   "name": "python3"
  },
  "language_info": {
   "codemirror_mode": {
    "name": "ipython",
    "version": 2
   },
   "file_extension": ".py",
   "mimetype": "text/x-python",
   "name": "python",
   "nbconvert_exporter": "python",
   "pygments_lexer": "ipython2",
   "version": "2.7.6"
  }
 },
 "nbformat": 4,
 "nbformat_minor": 0
}