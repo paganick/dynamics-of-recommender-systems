{
 "cells": [
  {
   "cell_type": "code",
   "execution_count": 1,
   "metadata": {
    "collapsed": true
   },
   "outputs": [],
   "source": [
    "import numpy as np\n",
    "from modules.algorithms import UtilityMatrix\n",
    "from modules.agents import Population\n",
    "from modules.simulator import Simulator\n",
    "from modules.rewardsFunctions import RewardFunctionExponential, RewardFunctionSquaredExponential\n",
    "from modules.samplers import UniformSamplerRecommendation, GaussianSamplerRecommendation, MixtureGaussianSamplerRecommendation\n",
    "from modules.samplers import UniformSamplerOpinion, GaussianSamplerOpinion, MixtureGaussianSamplerOpinion\n",
    "from modules.parameters import ParametersUser, ParametersPopulation\n",
    "from modules.basic import Opinion"
   ]
  },
  {
   "cell_type": "markdown",
   "source": [
    "Basic parameters"
   ],
   "metadata": {
    "collapsed": false,
    "pycharm": {
     "name": "#%% md\n"
    }
   }
  },
  {
   "cell_type": "code",
   "execution_count": 2,
   "outputs": [],
   "source": [
    "reward = RewardFunctionSquaredExponential(decay_parameter=1.0)\n",
    "# recommendation_sampler = UniformSamplerRecommendation(low=-10.0, high=10.0)\n",
    "recommendation_sampler = MixtureGaussianSamplerRecommendation(mean=[-1.0, 1.0], std=[0.1, 0.1])\n",
    "opinion_sampler_1 = UniformSamplerOpinion(low=-1.0, high=0.0)\n",
    "opinion_sampler_2 = UniformSamplerOpinion(low=-0.0, high=1.0)"
   ],
   "metadata": {
    "collapsed": false,
    "pycharm": {
     "name": "#%%\n"
    }
   }
  },
  {
   "cell_type": "markdown",
   "source": [
    "Define parameters of the population"
   ],
   "metadata": {
    "collapsed": false,
    "pycharm": {
     "name": "#%% md\n"
    }
   }
  },
  {
   "cell_type": "code",
   "execution_count": 3,
   "outputs": [],
   "source": [
    "parameters = ParametersUser(prejudice=0.0,\n",
    "                            weight_prejudice=0.0,\n",
    "                            weight_recommendation=0.4,\n",
    "                            weight_current_opinion=0.6,\n",
    "                            reward=reward)\n",
    "parameters_population = ParametersPopulation(parameters=parameters,\n",
    "                                             repeat=10000)\n",
    "\n",
    "# Define population\n",
    "population_1 = Population(parameters=parameters_population,\n",
    "                          initial_state=opinion_sampler_1,\n",
    "                          save_history=True)"
   ],
   "metadata": {
    "collapsed": false,
    "pycharm": {
     "name": "#%%\n"
    }
   }
  },
  {
   "cell_type": "markdown",
   "source": [
    "Augment population"
   ],
   "metadata": {
    "collapsed": false,
    "pycharm": {
     "name": "#%% md\n"
    }
   }
  },
  {
   "cell_type": "code",
   "execution_count": 4,
   "outputs": [],
   "source": [
    "parameters = ParametersUser(prejudice=0.0,\n",
    "                            weight_prejudice=0.0,\n",
    "                            weight_recommendation=0.4,\n",
    "                            weight_current_opinion=0.6,\n",
    "                            reward=reward)\n",
    "parameters_population = ParametersPopulation(parameters=parameters,\n",
    "                                             repeat=10000)\n",
    "\n",
    "# Define population\n",
    "population_2 = Population(parameters=parameters_population,\n",
    "                          initial_state=opinion_sampler_2,\n",
    "                          save_history=True)\n",
    "# Sum populations\n",
    "population = population_1 + population_2"
   ],
   "metadata": {
    "collapsed": false,
    "pycharm": {
     "name": "#%%\n"
    }
   }
  },
  {
   "cell_type": "markdown",
   "source": [
    "Define algorithm"
   ],
   "metadata": {
    "collapsed": false,
    "pycharm": {
     "name": "#%% md\n"
    }
   }
  },
  {
   "cell_type": "code",
   "execution_count": 7,
   "outputs": [],
   "source": [
    "alg = UtilityMatrix(n_agents=population.n_agents(),\n",
    "                    recommendation_sampler=recommendation_sampler,\n",
    "                    exploration_probability=None,\n",
    "                    exploration_frequency=50)"
   ],
   "metadata": {
    "collapsed": false,
    "pycharm": {
     "name": "#%%\n"
    }
   }
  },
  {
   "cell_type": "markdown",
   "source": [
    "Run simulations and make plots"
   ],
   "metadata": {
    "collapsed": false,
    "pycharm": {
     "name": "#%% md\n"
    }
   }
  },
  {
   "cell_type": "code",
   "execution_count": 8,
   "outputs": [
    {
     "ename": "ValueError",
     "evalue": "Please input an initial state, or initialize with prejudice.",
     "output_type": "error",
     "traceback": [
      "\u001B[0;31m---------------------------------------------------------------------------\u001B[0m",
      "\u001B[0;31mValueError\u001B[0m                                Traceback (most recent call last)",
      "Input \u001B[0;32mIn [8]\u001B[0m, in \u001B[0;36m<cell line: 6>\u001B[0;34m()\u001B[0m\n\u001B[1;32m      2\u001B[0m simulator \u001B[38;5;241m=\u001B[39m Simulator(agent\u001B[38;5;241m=\u001B[39mpopulation,\n\u001B[1;32m      3\u001B[0m                       algorithm\u001B[38;5;241m=\u001B[39malg)\n\u001B[1;32m      5\u001B[0m \u001B[38;5;66;03m# Run\u001B[39;00m\n\u001B[0;32m----> 6\u001B[0m \u001B[43msimulator\u001B[49m\u001B[38;5;241;43m.\u001B[39;49m\u001B[43mrun\u001B[49m\u001B[43m(\u001B[49m\u001B[43mhorizon\u001B[49m\u001B[38;5;241;43m=\u001B[39;49m\u001B[38;5;241;43m102\u001B[39;49m\u001B[43m)\u001B[49m\n\u001B[1;32m      8\u001B[0m \u001B[38;5;66;03m# Plot\u001B[39;00m\n\u001B[1;32m      9\u001B[0m recommendation_sampler\u001B[38;5;241m.\u001B[39mplot()\n",
      "File \u001B[0;32m~/Desktop/Projects/Recommender Systems/code/modules/simulator.py:28\u001B[0m, in \u001B[0;36mSimulator.run\u001B[0;34m(self, horizon, initialize, initial_state)\u001B[0m\n\u001B[1;32m     26\u001B[0m \u001B[38;5;28;01mdef\u001B[39;00m \u001B[38;5;21mrun\u001B[39m(\u001B[38;5;28mself\u001B[39m, horizon: \u001B[38;5;28mint\u001B[39m, initialize: \u001B[38;5;28mbool\u001B[39m \u001B[38;5;241m=\u001B[39m \u001B[38;5;28;01mTrue\u001B[39;00m, initial_state: Opinion \u001B[38;5;129;01mor\u001B[39;00m \u001B[38;5;28;01mNone\u001B[39;00m \u001B[38;5;241m=\u001B[39m \u001B[38;5;28;01mNone\u001B[39;00m) \u001B[38;5;241m-\u001B[39m\u001B[38;5;241m>\u001B[39m \u001B[38;5;28;01mNone\u001B[39;00m:\n\u001B[1;32m     27\u001B[0m     \u001B[38;5;28;01mif\u001B[39;00m initialize:\n\u001B[0;32m---> 28\u001B[0m         \u001B[38;5;28;43mself\u001B[39;49m\u001B[38;5;241;43m.\u001B[39;49m\u001B[43minitialize\u001B[49m\u001B[43m(\u001B[49m\u001B[43minitial_state\u001B[49m\u001B[38;5;241;43m=\u001B[39;49m\u001B[43minitial_state\u001B[49m\u001B[43m)\u001B[49m\n\u001B[1;32m     29\u001B[0m     reward \u001B[38;5;241m=\u001B[39m \u001B[38;5;28;01mNone\u001B[39;00m\n\u001B[1;32m     30\u001B[0m     \u001B[38;5;28;01mfor\u001B[39;00m t \u001B[38;5;129;01min\u001B[39;00m \u001B[38;5;28mrange\u001B[39m(\u001B[38;5;241m0\u001B[39m, horizon):\n",
      "File \u001B[0;32m~/Desktop/Projects/Recommender Systems/code/modules/simulator.py:19\u001B[0m, in \u001B[0;36mSimulator.initialize\u001B[0;34m(self, initial_state, initialize_with_prejudice)\u001B[0m\n\u001B[1;32m     17\u001B[0m \u001B[38;5;28;01mdef\u001B[39;00m \u001B[38;5;21minitialize\u001B[39m(\u001B[38;5;28mself\u001B[39m, initial_state: Opinion \u001B[38;5;129;01mor\u001B[39;00m \u001B[38;5;28;01mNone\u001B[39;00m \u001B[38;5;241m=\u001B[39m \u001B[38;5;28;01mNone\u001B[39;00m, initialize_with_prejudice: \u001B[38;5;28mbool\u001B[39m \u001B[38;5;241m=\u001B[39m \u001B[38;5;28;01mFalse\u001B[39;00m) \u001B[38;5;241m-\u001B[39m\u001B[38;5;241m>\u001B[39m \u001B[38;5;28;01mNone\u001B[39;00m:  \u001B[38;5;66;03m# TODO: implement sampler\u001B[39;00m\n\u001B[1;32m     18\u001B[0m     \u001B[38;5;28;01mif\u001B[39;00m initial_state \u001B[38;5;129;01mis\u001B[39;00m \u001B[38;5;28;01mNone\u001B[39;00m:\n\u001B[0;32m---> 19\u001B[0m         \u001B[38;5;28;43mself\u001B[39;49m\u001B[38;5;241;43m.\u001B[39;49m\u001B[43magent\u001B[49m\u001B[38;5;241;43m.\u001B[39;49m\u001B[43minitialize\u001B[49m\u001B[43m(\u001B[49m\u001B[43minitial_state\u001B[49m\u001B[38;5;241;43m=\u001B[39;49m\u001B[38;5;28;43mself\u001B[39;49m\u001B[38;5;241;43m.\u001B[39;49m\u001B[43minitial_state\u001B[49m\u001B[43m,\u001B[49m\n\u001B[1;32m     20\u001B[0m \u001B[43m                              \u001B[49m\u001B[43minitialize_with_prejudice\u001B[49m\u001B[38;5;241;43m=\u001B[39;49m\u001B[43minitialize_with_prejudice\u001B[49m\u001B[43m)\u001B[49m\n\u001B[1;32m     21\u001B[0m     \u001B[38;5;28;01melse\u001B[39;00m:\n\u001B[1;32m     22\u001B[0m         \u001B[38;5;28mself\u001B[39m\u001B[38;5;241m.\u001B[39magent\u001B[38;5;241m.\u001B[39minitialize(initial_state\u001B[38;5;241m=\u001B[39minitial_state,\n\u001B[1;32m     23\u001B[0m                               initialize_with_prejudice\u001B[38;5;241m=\u001B[39minitialize_with_prejudice)\n",
      "File \u001B[0;32m~/Desktop/Projects/Recommender Systems/code/modules/agents.py:306\u001B[0m, in \u001B[0;36mPopulations.initialize\u001B[0;34m(self, initial_state, initialize_with_prejudice)\u001B[0m\n\u001B[1;32m    304\u001B[0m     initial_state \u001B[38;5;241m=\u001B[39m [\u001B[38;5;28;01mNone\u001B[39;00m]\u001B[38;5;241m*\u001B[39m\u001B[38;5;28mself\u001B[39m\u001B[38;5;241m.\u001B[39mn_populations()\n\u001B[1;32m    305\u001B[0m \u001B[38;5;28;01mfor\u001B[39;00m i \u001B[38;5;129;01min\u001B[39;00m \u001B[38;5;28mrange\u001B[39m(\u001B[38;5;28mself\u001B[39m\u001B[38;5;241m.\u001B[39mn_populations()):\n\u001B[0;32m--> 306\u001B[0m     \u001B[38;5;28;43mself\u001B[39;49m\u001B[38;5;241;43m.\u001B[39;49m\u001B[43m_populations\u001B[49m\u001B[43m[\u001B[49m\u001B[43mi\u001B[49m\u001B[43m]\u001B[49m\u001B[38;5;241;43m.\u001B[39;49m\u001B[43minitialize\u001B[49m\u001B[43m(\u001B[49m\u001B[43minitial_state\u001B[49m\u001B[38;5;241;43m=\u001B[39;49m\u001B[43minitial_state\u001B[49m\u001B[43m[\u001B[49m\u001B[43mi\u001B[49m\u001B[43m]\u001B[49m\u001B[43m,\u001B[49m\n\u001B[1;32m    307\u001B[0m \u001B[43m                                    \u001B[49m\u001B[43minitialize_with_prejudice\u001B[49m\u001B[38;5;241;43m=\u001B[39;49m\u001B[43minitialize_with_prejudice\u001B[49m\u001B[43m)\u001B[49m\n",
      "File \u001B[0;32m~/Desktop/Projects/Recommender Systems/code/modules/agents.py:159\u001B[0m, in \u001B[0;36mPopulation.initialize\u001B[0;34m(self, initial_state, initialize_with_prejudice)\u001B[0m\n\u001B[1;32m    157\u001B[0m     \u001B[38;5;28mself\u001B[39m\u001B[38;5;241m.\u001B[39m_x \u001B[38;5;241m=\u001B[39m initial_state\n\u001B[1;32m    158\u001B[0m \u001B[38;5;28;01melif\u001B[39;00m \u001B[38;5;129;01mnot\u001B[39;00m initialize_with_prejudice \u001B[38;5;129;01mand\u001B[39;00m initial_state \u001B[38;5;129;01mis\u001B[39;00m \u001B[38;5;28;01mNone\u001B[39;00m:\n\u001B[0;32m--> 159\u001B[0m     \u001B[38;5;28;01mraise\u001B[39;00m \u001B[38;5;167;01mValueError\u001B[39;00m(\u001B[38;5;124m'\u001B[39m\u001B[38;5;124mPlease input an initial state, or initialize with prejudice.\u001B[39m\u001B[38;5;124m'\u001B[39m)\n\u001B[1;32m    160\u001B[0m \u001B[38;5;28;01melse\u001B[39;00m:\n\u001B[1;32m    161\u001B[0m     \u001B[38;5;28;01mraise\u001B[39;00m \u001B[38;5;167;01mValueError\u001B[39;00m(\u001B[38;5;124m'\u001B[39m\u001B[38;5;124mUnknown input, received \u001B[39m\u001B[38;5;124m'\u001B[39m \u001B[38;5;241m+\u001B[39m \u001B[38;5;28mtype\u001B[39m(initial_state) \u001B[38;5;241m+\u001B[39m \u001B[38;5;124m'\u001B[39m\u001B[38;5;124m.\u001B[39m\u001B[38;5;124m'\u001B[39m)\n",
      "\u001B[0;31mValueError\u001B[0m: Please input an initial state, or initialize with prejudice."
     ]
    }
   ],
   "source": [
    "# Simulator\n",
    "simulator = Simulator(agent=population,\n",
    "                      algorithm=alg)\n",
    "\n",
    "# Run\n",
    "simulator.run(horizon=102)\n",
    "\n",
    "# Plot\n",
    "recommendation_sampler.plot()\n",
    "opinion_sampler_1.plot(show=False)\n",
    "opinion_sampler_2.plot(show=True)\n",
    "simulator.agent.plot(save=False, name='sim_identical')\n",
    "\n",
    "# Save data (still to improve)\n",
    "simulator.agent.trajectory.save_to_file(name='data', folder='results')"
   ],
   "metadata": {
    "collapsed": false,
    "pycharm": {
     "name": "#%%\n"
    }
   }
  },
  {
   "cell_type": "code",
   "execution_count": null,
   "outputs": [],
   "source": [],
   "metadata": {
    "collapsed": false,
    "pycharm": {
     "name": "#%%\n"
    }
   }
  }
 ],
 "metadata": {
  "kernelspec": {
   "display_name": "Python 3",
   "language": "python",
   "name": "python3"
  },
  "language_info": {
   "codemirror_mode": {
    "name": "ipython",
    "version": 2
   },
   "file_extension": ".py",
   "mimetype": "text/x-python",
   "name": "python",
   "nbconvert_exporter": "python",
   "pygments_lexer": "ipython2",
   "version": "2.7.6"
  }
 },
 "nbformat": 4,
 "nbformat_minor": 0
}