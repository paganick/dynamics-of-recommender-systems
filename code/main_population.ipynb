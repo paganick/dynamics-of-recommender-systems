{
 "cells": [
  {
   "cell_type": "code",
   "execution_count": 37,
   "metadata": {
    "collapsed": true
   },
   "outputs": [],
   "source": [
    "import numpy as np\n",
    "from modules.algorithms import UtilityMatrix\n",
    "from modules.agents import Population\n",
    "from modules.simulator import Simulator\n",
    "from modules.rewardsFunctions import RewardFunctionExponential, RewardFunctionSquaredExponential\n",
    "from modules.samplers import UniformSamplerRecommendation, GaussianSamplerRecommendation, MixtureGaussianSamplerRecommendation\n",
    "from modules.samplers import UniformSamplerOpinion, GaussianSamplerOpinion, MixtureGaussianSamplerOpinion\n",
    "from modules.parameters import ParametersUser, ParametersPopulation\n",
    "from modules.basic import Opinion"
   ]
  },
  {
   "cell_type": "markdown",
   "source": [
    "Basic parameters"
   ],
   "metadata": {
    "collapsed": false,
    "pycharm": {
     "name": "#%% md\n"
    }
   }
  },
  {
   "cell_type": "code",
   "execution_count": 38,
   "outputs": [],
   "source": [
    "reward = RewardFunctionSquaredExponential(decay_parameter=1.0)\n",
    "# recommendation_sampler = UniformSamplerRecommendation(low=-10.0, high=10.0)\n",
    "recommendation_sampler = MixtureGaussianSamplerRecommendation(mean=[-1.0, 1.0], std=[0.1, 0.1])\n",
    "opinion_sampler_1 = UniformSamplerOpinion(low=-2.0, high=0.0)\n",
    "opinion_sampler_2 = UniformSamplerOpinion(low=-0.0, high=2.0)"
   ],
   "metadata": {
    "collapsed": false,
    "pycharm": {
     "name": "#%%\n"
    }
   }
  },
  {
   "cell_type": "markdown",
   "source": [
    "Define parameters of the population"
   ],
   "metadata": {
    "collapsed": false,
    "pycharm": {
     "name": "#%% md\n"
    }
   }
  },
  {
   "cell_type": "code",
   "execution_count": 39,
   "outputs": [
    {
     "ename": "TypeError",
     "evalue": "'numpy.float64' object cannot be interpreted as an integer",
     "output_type": "error",
     "traceback": [
      "\u001B[0;31m---------------------------------------------------------------------------\u001B[0m",
      "\u001B[0;31mTypeError\u001B[0m                                 Traceback (most recent call last)",
      "Input \u001B[0;32mIn [39]\u001B[0m, in \u001B[0;36m<cell line: 10>\u001B[0;34m()\u001B[0m\n\u001B[1;32m      6\u001B[0m parameters_population \u001B[38;5;241m=\u001B[39m ParametersPopulation(parameters\u001B[38;5;241m=\u001B[39mparameters,\n\u001B[1;32m      7\u001B[0m                                              repeat\u001B[38;5;241m=\u001B[39m\u001B[38;5;241m1e3\u001B[39m)\n\u001B[1;32m      9\u001B[0m \u001B[38;5;66;03m# Define population\u001B[39;00m\n\u001B[0;32m---> 10\u001B[0m population_1 \u001B[38;5;241m=\u001B[39m \u001B[43mPopulation\u001B[49m\u001B[43m(\u001B[49m\u001B[43mparameters\u001B[49m\u001B[38;5;241;43m=\u001B[39;49m\u001B[43mparameters_population\u001B[49m\u001B[43m,\u001B[49m\n\u001B[1;32m     11\u001B[0m \u001B[43m                          \u001B[49m\u001B[43minitial_state\u001B[49m\u001B[38;5;241;43m=\u001B[39;49m\u001B[43mopinion_sampler_1\u001B[49m\u001B[43m,\u001B[49m\n\u001B[1;32m     12\u001B[0m \u001B[43m                          \u001B[49m\u001B[43msave_history\u001B[49m\u001B[38;5;241;43m=\u001B[39;49m\u001B[38;5;28;43;01mTrue\u001B[39;49;00m\u001B[43m)\u001B[49m\n",
      "File \u001B[0;32m~/Desktop/Projects/Recommender Systems/code/modules/agents.py:136\u001B[0m, in \u001B[0;36mPopulation.__init__\u001B[0;34m(self, parameters, initial_state, save_history)\u001B[0m\n\u001B[1;32m    133\u001B[0m \u001B[38;5;28mself\u001B[39m\u001B[38;5;241m.\u001B[39mtrajectory \u001B[38;5;241m=\u001B[39m Trajectory([KEY_OPINION, KEY_RECOMMENDATION, KEY_REWARD, KEY_AVERAGE_OPINION,\n\u001B[1;32m    134\u001B[0m                               KEY_STD_OPINION, KEY_AVERAGE_REWARD, KEY_AVERAGE_RECOMMENDATION])\n\u001B[1;32m    135\u001B[0m \u001B[38;5;66;03m# this will initialize the users again -- thus, the initialization above does not matter\u001B[39;00m\n\u001B[0;32m--> 136\u001B[0m \u001B[38;5;28;43mself\u001B[39;49m\u001B[38;5;241;43m.\u001B[39;49m\u001B[43minitialize\u001B[49m\u001B[43m(\u001B[49m\u001B[43minitial_state\u001B[49m\u001B[38;5;241;43m=\u001B[39;49m\u001B[38;5;28;43mself\u001B[39;49m\u001B[38;5;241;43m.\u001B[39;49m\u001B[43minitial_state\u001B[49m\u001B[43m(\u001B[49m\u001B[43m)\u001B[49m\u001B[43m,\u001B[49m\u001B[43m \u001B[49m\u001B[43minitialize_with_prejudice\u001B[49m\u001B[38;5;241;43m=\u001B[39;49m\u001B[38;5;28;43;01mFalse\u001B[39;49;00m\u001B[43m)\u001B[49m\n",
      "File \u001B[0;32m~/Desktop/Projects/Recommender Systems/code/modules/agents.py:169\u001B[0m, in \u001B[0;36mPopulation.initialize\u001B[0;34m(self, initial_state, initialize_with_prejudice)\u001B[0m\n\u001B[1;32m    167\u001B[0m         \u001B[38;5;28mself\u001B[39m\u001B[38;5;241m.\u001B[39m_x \u001B[38;5;241m=\u001B[39m \u001B[38;5;28mself\u001B[39m\u001B[38;5;241m.\u001B[39mparameters()\u001B[38;5;241m.\u001B[39mprejudice\n\u001B[1;32m    168\u001B[0m \u001B[38;5;28;01melif\u001B[39;00m \u001B[38;5;28misinstance\u001B[39m(initial_state, SamplerOpinion):\n\u001B[0;32m--> 169\u001B[0m     \u001B[38;5;28mself\u001B[39m\u001B[38;5;241m.\u001B[39m_x \u001B[38;5;241m=\u001B[39m \u001B[43minitial_state\u001B[49m\u001B[38;5;241;43m.\u001B[39;49m\u001B[43msample\u001B[49m\u001B[43m(\u001B[49m\u001B[43mnumber\u001B[49m\u001B[38;5;241;43m=\u001B[39;49m\u001B[38;5;28;43mself\u001B[39;49m\u001B[38;5;241;43m.\u001B[39;49m\u001B[43mn_agents\u001B[49m\u001B[43m(\u001B[49m\u001B[43m)\u001B[49m\u001B[43m)\u001B[49m  \u001B[38;5;66;03m# sample one\u001B[39;00m\n\u001B[1;32m    170\u001B[0m \u001B[38;5;28;01melif\u001B[39;00m \u001B[38;5;28misinstance\u001B[39m(initial_state, OpinionType):\n\u001B[1;32m    171\u001B[0m     \u001B[38;5;28mself\u001B[39m\u001B[38;5;241m.\u001B[39m_x \u001B[38;5;241m=\u001B[39m initial_state\n",
      "File \u001B[0;32m~/Desktop/Projects/Recommender Systems/code/modules/samplers.py:77\u001B[0m, in \u001B[0;36mSamplerOpinion.sample\u001B[0;34m(self, number, seed)\u001B[0m\n\u001B[1;32m     74\u001B[0m \u001B[38;5;28;01mdef\u001B[39;00m \u001B[38;5;21msample\u001B[39m(\u001B[38;5;28mself\u001B[39m,\n\u001B[1;32m     75\u001B[0m            number: \u001B[38;5;28mint\u001B[39m,\n\u001B[1;32m     76\u001B[0m            seed: \u001B[38;5;28mint\u001B[39m \u001B[38;5;129;01mor\u001B[39;00m \u001B[38;5;28;01mNone\u001B[39;00m \u001B[38;5;241m=\u001B[39m \u001B[38;5;28;01mNone\u001B[39;00m) \u001B[38;5;241m-\u001B[39m\u001B[38;5;241m>\u001B[39m Opinion:\n\u001B[0;32m---> 77\u001B[0m     \u001B[38;5;28;01mreturn\u001B[39;00m Opinion(\u001B[38;5;28;43msuper\u001B[39;49m\u001B[43m(\u001B[49m\u001B[43m)\u001B[49m\u001B[38;5;241;43m.\u001B[39;49m\u001B[43msample\u001B[49m\u001B[43m(\u001B[49m\u001B[43mnumber\u001B[49m\u001B[38;5;241;43m=\u001B[39;49m\u001B[43mnumber\u001B[49m\u001B[43m,\u001B[49m\u001B[43m \u001B[49m\u001B[43mseed\u001B[49m\u001B[38;5;241;43m=\u001B[39;49m\u001B[43mseed\u001B[49m\u001B[43m)\u001B[49m)\n",
      "File \u001B[0;32m~/Desktop/Projects/Recommender Systems/code/modules/samplers.py:21\u001B[0m, in \u001B[0;36mSampler.sample\u001B[0;34m(self, number, seed)\u001B[0m\n\u001B[1;32m     18\u001B[0m \u001B[38;5;28;01mdef\u001B[39;00m \u001B[38;5;21msample\u001B[39m(\u001B[38;5;28mself\u001B[39m,\n\u001B[1;32m     19\u001B[0m            number: \u001B[38;5;28mint\u001B[39m,\n\u001B[1;32m     20\u001B[0m            seed: \u001B[38;5;28mint\u001B[39m \u001B[38;5;129;01mor\u001B[39;00m \u001B[38;5;28;01mNone\u001B[39;00m \u001B[38;5;241m=\u001B[39m \u001B[38;5;28;01mNone\u001B[39;00m) \u001B[38;5;241m-\u001B[39m\u001B[38;5;241m>\u001B[39m np\u001B[38;5;241m.\u001B[39mndarray:\n\u001B[0;32m---> 21\u001B[0m     \u001B[38;5;28;01mreturn\u001B[39;00m \u001B[38;5;28;43mself\u001B[39;49m\u001B[38;5;241;43m.\u001B[39;49m\u001B[43mdistribution\u001B[49m\u001B[43m(\u001B[49m\u001B[43m)\u001B[49m\u001B[38;5;241;43m.\u001B[39;49m\u001B[43mrvs\u001B[49m\u001B[43m(\u001B[49m\u001B[43msize\u001B[49m\u001B[38;5;241;43m=\u001B[39;49m\u001B[43mnumber\u001B[49m\u001B[43m,\u001B[49m\u001B[43m \u001B[49m\u001B[43mrandom_state\u001B[49m\u001B[38;5;241;43m=\u001B[39;49m\u001B[43mseed\u001B[49m\u001B[43m)\u001B[49m\n",
      "File \u001B[0;32m~/Desktop/Projects/Recommender Systems/code/virtualenv/lib/python3.9/site-packages/scipy/stats/_distn_infrastructure.py:467\u001B[0m, in \u001B[0;36mrv_frozen.rvs\u001B[0;34m(self, size, random_state)\u001B[0m\n\u001B[1;32m    465\u001B[0m kwds \u001B[38;5;241m=\u001B[39m \u001B[38;5;28mself\u001B[39m\u001B[38;5;241m.\u001B[39mkwds\u001B[38;5;241m.\u001B[39mcopy()\n\u001B[1;32m    466\u001B[0m kwds\u001B[38;5;241m.\u001B[39mupdate({\u001B[38;5;124m'\u001B[39m\u001B[38;5;124msize\u001B[39m\u001B[38;5;124m'\u001B[39m: size, \u001B[38;5;124m'\u001B[39m\u001B[38;5;124mrandom_state\u001B[39m\u001B[38;5;124m'\u001B[39m: random_state})\n\u001B[0;32m--> 467\u001B[0m \u001B[38;5;28;01mreturn\u001B[39;00m \u001B[38;5;28;43mself\u001B[39;49m\u001B[38;5;241;43m.\u001B[39;49m\u001B[43mdist\u001B[49m\u001B[38;5;241;43m.\u001B[39;49m\u001B[43mrvs\u001B[49m\u001B[43m(\u001B[49m\u001B[38;5;241;43m*\u001B[39;49m\u001B[38;5;28;43mself\u001B[39;49m\u001B[38;5;241;43m.\u001B[39;49m\u001B[43margs\u001B[49m\u001B[43m,\u001B[49m\u001B[43m \u001B[49m\u001B[38;5;241;43m*\u001B[39;49m\u001B[38;5;241;43m*\u001B[39;49m\u001B[43mkwds\u001B[49m\u001B[43m)\u001B[49m\n",
      "File \u001B[0;32m~/Desktop/Projects/Recommender Systems/code/virtualenv/lib/python3.9/site-packages/scipy/stats/_distn_infrastructure.py:1078\u001B[0m, in \u001B[0;36mrv_generic.rvs\u001B[0;34m(self, *args, **kwds)\u001B[0m\n\u001B[1;32m   1075\u001B[0m \u001B[38;5;28;01melse\u001B[39;00m:\n\u001B[1;32m   1076\u001B[0m     random_state \u001B[38;5;241m=\u001B[39m \u001B[38;5;28mself\u001B[39m\u001B[38;5;241m.\u001B[39m_random_state\n\u001B[0;32m-> 1078\u001B[0m vals \u001B[38;5;241m=\u001B[39m \u001B[38;5;28;43mself\u001B[39;49m\u001B[38;5;241;43m.\u001B[39;49m\u001B[43m_rvs\u001B[49m\u001B[43m(\u001B[49m\u001B[38;5;241;43m*\u001B[39;49m\u001B[43margs\u001B[49m\u001B[43m,\u001B[49m\u001B[43m \u001B[49m\u001B[43msize\u001B[49m\u001B[38;5;241;43m=\u001B[39;49m\u001B[43msize\u001B[49m\u001B[43m,\u001B[49m\u001B[43m \u001B[49m\u001B[43mrandom_state\u001B[49m\u001B[38;5;241;43m=\u001B[39;49m\u001B[43mrandom_state\u001B[49m\u001B[43m)\u001B[49m\n\u001B[1;32m   1080\u001B[0m vals \u001B[38;5;241m=\u001B[39m vals \u001B[38;5;241m*\u001B[39m scale \u001B[38;5;241m+\u001B[39m loc\n\u001B[1;32m   1082\u001B[0m \u001B[38;5;66;03m# do not forget to restore the _random_state\u001B[39;00m\n",
      "File \u001B[0;32m~/Desktop/Projects/Recommender Systems/code/virtualenv/lib/python3.9/site-packages/scipy/stats/_continuous_distns.py:8261\u001B[0m, in \u001B[0;36muniform_gen._rvs\u001B[0;34m(self, size, random_state)\u001B[0m\n\u001B[1;32m   8260\u001B[0m \u001B[38;5;28;01mdef\u001B[39;00m \u001B[38;5;21m_rvs\u001B[39m(\u001B[38;5;28mself\u001B[39m, size\u001B[38;5;241m=\u001B[39m\u001B[38;5;28;01mNone\u001B[39;00m, random_state\u001B[38;5;241m=\u001B[39m\u001B[38;5;28;01mNone\u001B[39;00m):\n\u001B[0;32m-> 8261\u001B[0m     \u001B[38;5;28;01mreturn\u001B[39;00m \u001B[43mrandom_state\u001B[49m\u001B[38;5;241;43m.\u001B[39;49m\u001B[43muniform\u001B[49m\u001B[43m(\u001B[49m\u001B[38;5;241;43m0.0\u001B[39;49m\u001B[43m,\u001B[49m\u001B[43m \u001B[49m\u001B[38;5;241;43m1.0\u001B[39;49m\u001B[43m,\u001B[49m\u001B[43m \u001B[49m\u001B[43msize\u001B[49m\u001B[43m)\u001B[49m\n",
      "File \u001B[0;32mmtrand.pyx:1121\u001B[0m, in \u001B[0;36mnumpy.random.mtrand.RandomState.uniform\u001B[0;34m()\u001B[0m\n",
      "File \u001B[0;32m_common.pyx:630\u001B[0m, in \u001B[0;36mnumpy.random._common.cont\u001B[0;34m()\u001B[0m\n",
      "\u001B[0;31mTypeError\u001B[0m: 'numpy.float64' object cannot be interpreted as an integer"
     ]
    }
   ],
   "source": [
    "parameters = ParametersUser(prejudice=0.0,\n",
    "                            weight_prejudice=0.0,\n",
    "                            weight_recommendation=0.4,\n",
    "                            weight_current_opinion=0.6,\n",
    "                            reward=reward)\n",
    "parameters_population = ParametersPopulation(parameters=parameters,\n",
    "                                             repeat=1e3)\n",
    "\n",
    "# Define population\n",
    "population_1 = Population(parameters=parameters_population,\n",
    "                          initial_state=opinion_sampler_1,\n",
    "                          save_history=True)"
   ],
   "metadata": {
    "collapsed": false,
    "pycharm": {
     "name": "#%%\n"
    }
   }
  },
  {
   "cell_type": "markdown",
   "source": [
    "Augment population"
   ],
   "metadata": {
    "collapsed": false,
    "pycharm": {
     "name": "#%% md\n"
    }
   }
  },
  {
   "cell_type": "code",
   "execution_count": null,
   "outputs": [],
   "source": [
    "parameters = ParametersUser(prejudice=0.0,\n",
    "                            weight_prejudice=0.0,\n",
    "                            weight_recommendation=0.4,\n",
    "                            weight_current_opinion=0.6,\n",
    "                            reward=reward)\n",
    "parameters_population = ParametersPopulation(parameters=parameters,\n",
    "                                             repeat=1e3)\n",
    "\n",
    "# Define population\n",
    "population_2 = Population(parameters=parameters_population,\n",
    "                          initial_state=opinion_sampler_2,\n",
    "                          save_history=True)\n",
    "# Sum populations\n",
    "population = population_1 + population_2"
   ],
   "metadata": {
    "collapsed": false,
    "pycharm": {
     "name": "#%%\n"
    }
   }
  },
  {
   "cell_type": "markdown",
   "source": [
    "Define algorithm"
   ],
   "metadata": {
    "collapsed": false,
    "pycharm": {
     "name": "#%% md\n"
    }
   }
  },
  {
   "cell_type": "code",
   "execution_count": null,
   "outputs": [],
   "source": [
    "alg = UtilityMatrix(n_agents=population.n_agents(),\n",
    "                    recommendation_sampler=recommendation_sampler,\n",
    "                    exploration_probability=None,\n",
    "                    exploration_frequency=50)"
   ],
   "metadata": {
    "collapsed": false,
    "pycharm": {
     "name": "#%%\n"
    }
   }
  },
  {
   "cell_type": "markdown",
   "source": [
    "Run simulations and make plots"
   ],
   "metadata": {
    "collapsed": false,
    "pycharm": {
     "name": "#%% md\n"
    }
   }
  },
  {
   "cell_type": "code",
   "execution_count": null,
   "outputs": [],
   "source": [
    "# Simulator\n",
    "simulator = Simulator(agent=population,\n",
    "                      algorithm=alg)\n",
    "\n",
    "# Run\n",
    "simulator.run(horizon=102,\n",
    "              initialize=True)\n",
    "\n",
    "# Plot\n",
    "recommendation_sampler.plot(show=True)\n",
    "opinion_sampler_1.plot(show=False, color='blue')\n",
    "opinion_sampler_2.plot(show=True, color='red')\n",
    "simulator.agent.plot(save=False, name='sim_identical')\n",
    "\n",
    "# Save data (still to improve)\n",
    "simulator.agent.save_trajectory_to_file(name='data', folder='results')"
   ],
   "metadata": {
    "collapsed": false,
    "pycharm": {
     "name": "#%%\n"
    }
   }
  },
  {
   "cell_type": "code",
   "execution_count": null,
   "outputs": [],
   "source": [
    "# Continue simulation\n",
    "simulator.run(horizon=102,\n",
    "              initialize=True)\n",
    "\n",
    "# Plot\n",
    "simulator.agent.plot(save=False, name='sim_identical')\n",
    "\n",
    "# Save data (still to improve)\n",
    "simulator.agent.save_trajectory_to_file(name='data', folder='results')"
   ],
   "metadata": {
    "collapsed": false,
    "pycharm": {
     "name": "#%%\n"
    }
   }
  },
  {
   "cell_type": "code",
   "execution_count": null,
   "outputs": [],
   "source": [],
   "metadata": {
    "collapsed": false,
    "pycharm": {
     "name": "#%%\n"
    }
   }
  }
 ],
 "metadata": {
  "kernelspec": {
   "display_name": "Python 3",
   "language": "python",
   "name": "python3"
  },
  "language_info": {
   "codemirror_mode": {
    "name": "ipython",
    "version": 2
   },
   "file_extension": ".py",
   "mimetype": "text/x-python",
   "name": "python",
   "nbconvert_exporter": "python",
   "pygments_lexer": "ipython2",
   "version": "2.7.6"
  }
 },
 "nbformat": 4,
 "nbformat_minor": 0
}